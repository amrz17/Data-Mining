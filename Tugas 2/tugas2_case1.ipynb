{
 "cells": [
  {
   "cell_type": "code",
   "execution_count": 17,
   "id": "f01a369d-66fd-4d1f-a99b-012da119b024",
   "metadata": {},
   "outputs": [
    {
     "name": "stdout",
     "output_type": "stream",
     "text": [
      "Data yang diterima: 256299\n",
      "   id             nim    kode_mk                                      nama_mk  \\\n",
      "0   1  15416255201060  F02160009                             Entrepreneurship   \n",
      "1   2  15416255201060  F02160010                                Kerja Praktik   \n",
      "2   3  15416255201060  IF1160020                  Desain & Analisis Algoritma   \n",
      "3   4  15416255201060  IF1160021  Analisis & Desain System Berorientasi Obyek   \n",
      "4   5  15416255201060  IF1160022           Pemrograman Berorientasi Objek (*)   \n",
      "5   6  15416255201060  IF1160023                               Metode Numerik   \n",
      "6   7  15416255201060  IF1160024                               Sistem Operasi   \n",
      "7   8  15416255201060  IF1160025                 Interaksi Manusia & Komputer   \n",
      "8   9  15416255201060  IF1160027                         Pemrogram Visual (*)   \n",
      "9  10  15416255201060  IF1160028                         Sistem Micropocessor   \n",
      "\n",
      "                                  nama_mk_indo  \\\n",
      "0                             Entrepreneurship   \n",
      "1                                Kerja Praktik   \n",
      "2                  Desain & Analisis Algoritma   \n",
      "3  Analisis & Desain System Berorientasi Obyek   \n",
      "4               Pemrograman Berorientasi Objek   \n",
      "5                               Metode Numerik   \n",
      "6                               Sistem Operasi   \n",
      "7                 Interaksi Manusia & Komputer   \n",
      "8                             Pemrogram Visual   \n",
      "9                         Sistem Micropocessor   \n",
      "\n",
      "                      nama_mk_ing  nilai_grade  nilai_total  semester  sks_mk  \\\n",
      "0                Entrepreneurship         3.50        84.25         5       2   \n",
      "1                      Internship         3.75        88.25         6       3   \n",
      "2     Analysis Algorithm & Design         3.50        81.70         3       3   \n",
      "3  Object Oriented Design System          3.75        86.80         3       3   \n",
      "4     Object Oriented Programming         3.75        85.50         3       3   \n",
      "5                Numerical Method         2.76        71.70         3       3   \n",
      "6                Operation System         3.50        82.10         3       3   \n",
      "7      Human-Computer Interaction         3.75        88.05         3       3   \n",
      "8              Visual Programming         4.00        94.50         4       3   \n",
      "9           Microprocessor System         3.00        79.30         4       3   \n",
      "\n",
      "  grade  \n",
      "0    B+  \n",
      "1    A-  \n",
      "2    B+  \n",
      "3    A-  \n",
      "4    A-  \n",
      "5    B-  \n",
      "6    B+  \n",
      "7    A-  \n",
      "8     A  \n",
      "9     B  \n"
     ]
    }
   ],
   "source": [
    "import requests\n",
    "import pandas as pd\n",
    "\n",
    "url = \"http://103.82.92.37/DM20232/getdata.php?table=transkip_nilai\"\n",
    "headers = {'api-key': \"DM20232UBP\"}\n",
    "response = requests.get(url, headers=headers)\n",
    "\n",
    "if response.status_code == 200:\n",
    "    data = response.json()\n",
    "    df = pd.DataFrame(data['data'])\n",
    "\n",
    "    # Menampilkan jumlah data yang diterima\n",
    "    jumlah_data = len(df)\n",
    "    print(\"Data yang diterima:\", jumlah_data)\n",
    "\n",
    "    # Menampilkan 10 data pertama sebagai tabel\n",
    "    print(df.head(10))\n",
    "else:\n",
    "    print(f\"Gagal mengambil data. Status code: {response.status_code} : {response.text}\")"
   ]
  },
  {
   "cell_type": "raw",
   "id": "b3deec39-095c-4a6b-b6c6-3c8cff6b76e0",
   "metadata": {},
   "source": [
    "1. LAKUKAN PENCARIAN DATA YANG BERNILAI NULL"
   ]
  },
  {
   "cell_type": "raw",
   "id": "37092d42-78e5-4263-8334-a4dbfa931e80",
   "metadata": {},
   "source": [
    "2. IDENTIFIKASI BARIS YANG MERUPAKAN DUPLIKAT"
   ]
  },
  {
   "cell_type": "raw",
   "id": "301295e9-729b-4e20-affb-ee61464089f1",
   "metadata": {},
   "source": [
    "3. IDENTIFIKASI & MENANGANI NILAI2 YG EKSTREM"
   ]
  },
  {
   "cell_type": "raw",
   "id": "712826a3-6c3c-46ba-8fc1-4cee5673f4ad",
   "metadata": {},
   "source": [
    "4. IDENTIFIKASI & MENANGANI KESALAHAN TIPE ATAU KETIDAKSESUAIAN FORMAT"
   ]
  },
  {
   "cell_type": "raw",
   "id": "dfcd452e-fcd2-4f8d-b3d1-add9cbad3d38",
   "metadata": {},
   "source": [
    "5. IDENTIFIKASI & MENANGANI ANOMALI"
   ]
  },
  {
   "cell_type": "raw",
   "id": "dbe866b6-8620-4941-a915-8516382a23f4",
   "metadata": {},
   "source": [
    "6. MEMBERSIHKAN & MEMPROSES DATA TEXT, TERMASUK STEMMING "
   ]
  }
 ],
 "metadata": {
  "kernelspec": {
   "display_name": "Python 3 (ipykernel)",
   "language": "python",
   "name": "python3"
  },
  "language_info": {
   "codemirror_mode": {
    "name": "ipython",
    "version": 3
   },
   "file_extension": ".py",
   "mimetype": "text/x-python",
   "name": "python",
   "nbconvert_exporter": "python",
   "pygments_lexer": "ipython3",
   "version": "3.11.5"
  }
 },
 "nbformat": 4,
 "nbformat_minor": 5
}
