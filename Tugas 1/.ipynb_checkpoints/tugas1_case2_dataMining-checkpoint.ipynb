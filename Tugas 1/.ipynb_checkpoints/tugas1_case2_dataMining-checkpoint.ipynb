{
 "cells": [
  {
   "cell_type": "code",
   "execution_count": 64,
   "id": "55336e04-bb85-4ff9-837e-1fad51ee042d",
   "metadata": {},
   "outputs": [
    {
     "name": "stdout",
     "output_type": "stream",
     "text": [
      "Data yang diterima: 4542\n"
     ]
    }
   ],
   "source": [
    "import requests\n",
    "\n",
    "url = \"http://103.82.92.37/DM20232/getdata.php\"\n",
    "response = requests.get(url)\n",
    "if response.status_code == 200:\n",
    "    data = response.json()\n",
    "    jumlah_data = len(data)#menampilkan jumlah data\n",
    "    print(\"Data yang diterima:\", jumlah_data)\n",
    "    #print(data) #Menampilkan seluruh data\n",
    "else: \n",
    "    print(\"Gagal mengambil data. Status code:\", response.status_code)\n",
    "datas = response.json()"
   ]
  },
  {
   "cell_type": "markdown",
   "id": "4d10225c-b19d-451a-9980-3c2c5543f3ba",
   "metadata": {},
   "source": [
    "CASE 2  => RATA2 LAMA KULIAH : 4 tahun 2 bulan\n",
    "        => MEDIAN LAMA KULIAH : 3 tahun 11 bulan\n",
    "        => MODE LAMA KULIAH : 3 tahun 11 bulan "
   ]
  },
  {
   "cell_type": "code",
   "execution_count": 69,
   "id": "fc9eed35-9a4c-4e31-9dd6-edd44159f901",
   "metadata": {},
   "outputs": [
    {
     "name": "stdout",
     "output_type": "stream",
     "text": [
      "Rata2 lama kuliah : 4 tahun 3 bulan\n"
     ]
    }
   ],
   "source": [
    "from datetime import datetime\n",
    "\n",
    "total = 0\n",
    "jumlah_data = len(datas)\n",
    "for data in datas:\n",
    "    date_in = datetime.strptime(data['tgl_masuk'], '%Y-%m-%d').date()\n",
    "    date_out = datetime.strptime(data['tanggal_lulus'], '%Y-%m-%d').date()\n",
    "    total_hari = (date_out - date_in).days\n",
    "    total += total_hari\n",
    "# Hitung rata-rata lama kuliah\n",
    "rata2 = total // jumlah_data \n",
    "\n",
    "years = rata2 // 365\n",
    "sisa = rata2 % 365\n",
    "\n",
    "days_in_months = [31, 28, 31, 30, 31, 30, 31, 31, 30, 31, 30, 31]\n",
    "      \n",
    "months = 0\n",
    "for i, days_in_month in enumerate(days_in_months):\n",
    "        if sisa >= days_in_month:\n",
    "            sisa -= days_in_month\n",
    "            months += 1\n",
    "        else:\n",
    "            break  \n",
    "print('Rata2 lama kuliah :', years, 'tahun', months, 'bulan')\n",
    "\n"
   ]
  },
  {
   "cell_type": "code",
   "execution_count": 72,
   "id": "b07ea1a9-9c8f-4f17-a08d-2d500546126d",
   "metadata": {},
   "outputs": [
    {
     "name": "stdout",
     "output_type": "stream",
     "text": [
      "Median lama kuliah : 3 tahun 11 bulan\n",
      "Mode lama kuliah : 3 tahun 11 bulan\n"
     ]
    }
   ],
   "source": [
    "from datetime import datetime\n",
    "from collections import Counter\n",
    "\n",
    "\n",
    "lama_kuliah = []\n",
    "for data in datas:\n",
    "    date_in = datetime.strptime(data['tgl_masuk'], '%Y-%m-%d').date()\n",
    "    date_out = datetime.strptime(data['tanggal_lulus'], '%Y-%m-%d').date()\n",
    "    total_hari = (date_out - date_in).days\n",
    "    total_hari = int(total_hari)\n",
    "\n",
    "    # Konversi total_hari menjadi tahun, bulan, dan hari\n",
    "    years = total_hari // 365\n",
    "    total_hari %= 365\n",
    "\n",
    "    days_in_months = [31, 28, 31, 30, 31, 30, 31, 31, 30, 31, 30, 31]\n",
    "      \n",
    "    months = 0\n",
    "    for i, days_in_month in enumerate(days_in_months):\n",
    "        if total_hari >= days_in_month:\n",
    "            total_hari -= days_in_month\n",
    "            months += 1\n",
    "        else:\n",
    "            break\n",
    "\n",
    "    \n",
    "    # Tambahkan total_hari (dalam bulan) ke dalam list lama_kuliah\n",
    "    lama_kuliah.append(years * 12 + months)\n",
    "\n",
    "# Urutkan nilai lama_kuliah\n",
    "lama_kuliah.sort()\n",
    "\n",
    "# Hitung median\n",
    "n = len(lama_kuliah)\n",
    "if n % 2 == 0:\n",
    "    median = (lama_kuliah[n//2 - 1] + lama_kuliah[n//2]) / 2\n",
    "else:\n",
    "    median = lama_kuliah[n//2]\n",
    "    \n",
    "tahun = median // 12\n",
    "bulan = median % 12\n",
    "print('Median lama kuliah :', int(tahun), 'tahun', int(bulan), 'bulan')\n",
    "\n",
    "# Menghitung frekuensi kemunculan setiap nilai lama kuliah\n",
    "frekuensi = Counter(lama_kuliah)\n",
    "\n",
    "# Mencari nilai dengan frekuensi tertinggi (modus)\n",
    "modus = max(frekuensi, key=frekuensi.get)\n",
    "\n",
    "tahun = modus // 12\n",
    "bulan = modus % 12\n",
    "print('Mode lama kuliah :', int(tahun), 'tahun', int(bulan), 'bulan')\n",
    "\n"
   ]
  },
  {
   "cell_type": "code",
   "execution_count": null,
   "id": "4bedee28-5bce-431f-b06f-8e097794d06d",
   "metadata": {},
   "outputs": [],
   "source": []
  }
 ],
 "metadata": {
  "kernelspec": {
   "display_name": "Python 3 (ipykernel)",
   "language": "python",
   "name": "python3"
  },
  "language_info": {
   "codemirror_mode": {
    "name": "ipython",
    "version": 3
   },
   "file_extension": ".py",
   "mimetype": "text/x-python",
   "name": "python",
   "nbconvert_exporter": "python",
   "pygments_lexer": "ipython3",
   "version": "3.11.5"
  }
 },
 "nbformat": 4,
 "nbformat_minor": 5
}
